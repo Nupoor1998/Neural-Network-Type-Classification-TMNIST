{
  "metadata": {
    "kernelspec": {
      "language": "python",
      "display_name": "Python 3",
      "name": "python3"
    },
    "language_info": {
      "name": "python",
      "version": "3.7.12",
      "mimetype": "text/x-python",
      "codemirror_mode": {
        "name": "ipython",
        "version": 3
      },
      "pygments_lexer": "ipython3",
      "nbconvert_exporter": "python",
      "file_extension": ".py"
    },
    "colab": {
      "provenance": []
    }
  },
  "nbformat_minor": 0,
  "nbformat": 4,
  "cells": [
    {
      "cell_type": "code",
      "source": [
        "# This Python 3 environment comes with many helpful analytics libraries installed\n",
        "# It is defined by the kaggle/python Docker image: https://github.com/kaggle/docker-python\n",
        "# For example, here's several helpful packages to load\n",
        "\n",
        "import numpy as np # linear algebra\n",
        "import pandas as pd # data processing, CSV file I/O (e.g. pd.read_csv)\n",
        "\n",
        "# Input data files are available in the read-only \"../input/\" directory\n",
        "# For example, running this (by clicking run or pressing Shift+Enter) will list all files under the input directory\n",
        "\n",
        "import os\n",
        "for dirname, _, filenames in os.walk('/kaggle/input'):\n",
        "    for filename in filenames:\n",
        "        print(os.path.join(dirname, filename))\n",
        "\n",
        "# You can write up to 20GB to the current directory (/kaggle/working/) that gets preserved as output when you create a version using \"Save & Run All\"\n",
        "# You can also write temporary files to /kaggle/temp/, but they won't be saved outside of the current session"
      ],
      "metadata": {
        "_uuid": "8f2839f25d086af736a60e9eeb907d3b93b6e0e5",
        "_cell_guid": "b1076dfc-b9ad-4769-8c92-a6c4dae69d19",
        "execution": {
          "iopub.status.busy": "2023-04-17T04:42:33.541488Z",
          "iopub.execute_input": "2023-04-17T04:42:33.541902Z",
          "iopub.status.idle": "2023-04-17T04:42:33.578095Z",
          "shell.execute_reply.started": "2023-04-17T04:42:33.541865Z",
          "shell.execute_reply": "2023-04-17T04:42:33.576672Z"
        },
        "trusted": true,
        "id": "8i93RmkmZEfK"
      },
      "execution_count": null,
      "outputs": []
    },
    {
      "cell_type": "markdown",
      "source": [
        "ABSTRACT\n",
        "\n",
        "The goal of this notebook is to conduct character recognition on the TMINST dataset (which has 94 characters). Training a classifier on the MNIST dataset is regarded as the hello world of image recognition. The character identification was done with a basic CNN network. Overall, the accuracy was found to be close to 90.79 percent, which is rather good for a simple 7 layer CNN."
      ],
      "metadata": {
        "id": "v7n_t6y3ZEfM"
      }
    },
    {
      "cell_type": "code",
      "source": [
        "import numpy as np\n",
        "import pandas as pd\n",
        "import tensorflow as tf\n",
        "import zipfile\n",
        "from sklearn.model_selection import train_test_split\n",
        "import tensorflow as tf\n",
        "from tensorflow import keras\n",
        "from sklearn.preprocessing import LabelEncoder"
      ],
      "metadata": {
        "execution": {
          "iopub.status.busy": "2023-04-17T04:43:53.444424Z",
          "iopub.execute_input": "2023-04-17T04:43:53.444910Z",
          "iopub.status.idle": "2023-04-17T04:43:53.451915Z",
          "shell.execute_reply.started": "2023-04-17T04:43:53.444866Z",
          "shell.execute_reply": "2023-04-17T04:43:53.450344Z"
        },
        "trusted": true,
        "id": "OK3LcLsHZEfN"
      },
      "execution_count": null,
      "outputs": []
    },
    {
      "cell_type": "code",
      "source": [
        "df=pd.read_csv(\"../input/tmnist-alphabet-94-characters/94_character_TMNIST.csv\")"
      ],
      "metadata": {
        "execution": {
          "iopub.status.busy": "2023-04-17T04:44:59.057823Z",
          "iopub.execute_input": "2023-04-17T04:44:59.058300Z",
          "iopub.status.idle": "2023-04-17T04:45:42.565489Z",
          "shell.execute_reply.started": "2023-04-17T04:44:59.058260Z",
          "shell.execute_reply": "2023-04-17T04:45:42.564079Z"
        },
        "trusted": true,
        "id": "oP2FzbAsZEfN"
      },
      "execution_count": null,
      "outputs": []
    },
    {
      "cell_type": "code",
      "source": [
        "df"
      ],
      "metadata": {
        "execution": {
          "iopub.status.busy": "2023-04-17T04:46:13.199153Z",
          "iopub.execute_input": "2023-04-17T04:46:13.199660Z",
          "iopub.status.idle": "2023-04-17T04:46:13.338736Z",
          "shell.execute_reply.started": "2023-04-17T04:46:13.199614Z",
          "shell.execute_reply": "2023-04-17T04:46:13.337271Z"
        },
        "trusted": true,
        "id": "JODw53k1ZEfO",
        "outputId": "e1b85255-85dd-4fad-d46c-df0a43025e73"
      },
      "execution_count": null,
      "outputs": [
        {
          "execution_count": 6,
          "output_type": "execute_result",
          "data": {
            "text/plain": "                               names labels    1    2    3    4    5    6  \\\n0                      Salsa-Regular      6  0.0  0.0  0.0  0.0  0.0  0.0   \n1               MouseMemoirs-Regular      D  0.0  0.0  0.0  0.0  0.0  0.0   \n2                  Creepster-Regular      f  0.0  0.0  0.0  0.0  0.0  0.0   \n3                  SeoulNamsan-Light      /  0.0  0.0  0.0  0.0  0.0  0.0   \n4               HachiMaruPop-Regular      F  0.0  0.0  0.0  0.0  0.0  0.0   \n...                              ...    ...  ...  ...  ...  ...  ...  ...   \n274088         BalooChettan2-Regular      6  0.0  0.0  0.0  0.0  0.0  0.0   \n274089        Prompt-ExtraBoldItalic      <  0.0  0.0  0.0  0.0  0.0  0.0   \n274090  FiraSansCondensed-ThinItalic      z  0.0  0.0  0.0  0.0  0.0  0.0   \n274091                 GothicA1-Bold      ~  0.0  0.0  0.0  0.0  0.0  0.0   \n274092                 Tuffy-Regular      I  0.0  0.0  0.0  0.0  0.0  0.0   \n\n          7    8  ...  775  776  777  778  779  780  781  782  783  784  \n0       0.0  0.0  ...  0.0  0.0  0.0  0.0  0.0  0.0  0.0  0.0  0.0  0.0  \n1       0.0  0.0  ...  0.0  0.0  0.0  0.0  0.0  0.0  0.0  0.0  0.0  0.0  \n2       0.0  0.0  ...  0.0  0.0  0.0  0.0  0.0  0.0  0.0  0.0  0.0  0.0  \n3       0.0  0.0  ...  0.0  0.0  0.0  0.0  0.0  0.0  0.0  0.0  0.0  0.0  \n4       0.0  0.0  ...  0.0  0.0  0.0  0.0  0.0  0.0  0.0  0.0  0.0  0.0  \n...     ...  ...  ...  ...  ...  ...  ...  ...  ...  ...  ...  ...  ...  \n274088  0.0  0.0  ...  0.0  0.0  0.0  0.0  0.0  0.0  0.0  0.0  0.0  0.0  \n274089  0.0  0.0  ...  0.0  0.0  0.0  0.0  0.0  0.0  0.0  0.0  0.0  0.0  \n274090  0.0  0.0  ...  0.0  0.0  0.0  0.0  0.0  0.0  0.0  0.0  0.0  0.0  \n274091  0.0  0.0  ...  0.0  0.0  0.0  0.0  0.0  0.0  0.0  0.0  0.0  0.0  \n274092  0.0  0.0  ...  0.0  0.0  0.0  0.0  0.0  0.0  0.0  0.0  0.0  0.0  \n\n[274093 rows x 786 columns]",
            "text/html": "<div>\n<style scoped>\n    .dataframe tbody tr th:only-of-type {\n        vertical-align: middle;\n    }\n\n    .dataframe tbody tr th {\n        vertical-align: top;\n    }\n\n    .dataframe thead th {\n        text-align: right;\n    }\n</style>\n<table border=\"1\" class=\"dataframe\">\n  <thead>\n    <tr style=\"text-align: right;\">\n      <th></th>\n      <th>names</th>\n      <th>labels</th>\n      <th>1</th>\n      <th>2</th>\n      <th>3</th>\n      <th>4</th>\n      <th>5</th>\n      <th>6</th>\n      <th>7</th>\n      <th>8</th>\n      <th>...</th>\n      <th>775</th>\n      <th>776</th>\n      <th>777</th>\n      <th>778</th>\n      <th>779</th>\n      <th>780</th>\n      <th>781</th>\n      <th>782</th>\n      <th>783</th>\n      <th>784</th>\n    </tr>\n  </thead>\n  <tbody>\n    <tr>\n      <th>0</th>\n      <td>Salsa-Regular</td>\n      <td>6</td>\n      <td>0.0</td>\n      <td>0.0</td>\n      <td>0.0</td>\n      <td>0.0</td>\n      <td>0.0</td>\n      <td>0.0</td>\n      <td>0.0</td>\n      <td>0.0</td>\n      <td>...</td>\n      <td>0.0</td>\n      <td>0.0</td>\n      <td>0.0</td>\n      <td>0.0</td>\n      <td>0.0</td>\n      <td>0.0</td>\n      <td>0.0</td>\n      <td>0.0</td>\n      <td>0.0</td>\n      <td>0.0</td>\n    </tr>\n    <tr>\n      <th>1</th>\n      <td>MouseMemoirs-Regular</td>\n      <td>D</td>\n      <td>0.0</td>\n      <td>0.0</td>\n      <td>0.0</td>\n      <td>0.0</td>\n      <td>0.0</td>\n      <td>0.0</td>\n      <td>0.0</td>\n      <td>0.0</td>\n      <td>...</td>\n      <td>0.0</td>\n      <td>0.0</td>\n      <td>0.0</td>\n      <td>0.0</td>\n      <td>0.0</td>\n      <td>0.0</td>\n      <td>0.0</td>\n      <td>0.0</td>\n      <td>0.0</td>\n      <td>0.0</td>\n    </tr>\n    <tr>\n      <th>2</th>\n      <td>Creepster-Regular</td>\n      <td>f</td>\n      <td>0.0</td>\n      <td>0.0</td>\n      <td>0.0</td>\n      <td>0.0</td>\n      <td>0.0</td>\n      <td>0.0</td>\n      <td>0.0</td>\n      <td>0.0</td>\n      <td>...</td>\n      <td>0.0</td>\n      <td>0.0</td>\n      <td>0.0</td>\n      <td>0.0</td>\n      <td>0.0</td>\n      <td>0.0</td>\n      <td>0.0</td>\n      <td>0.0</td>\n      <td>0.0</td>\n      <td>0.0</td>\n    </tr>\n    <tr>\n      <th>3</th>\n      <td>SeoulNamsan-Light</td>\n      <td>/</td>\n      <td>0.0</td>\n      <td>0.0</td>\n      <td>0.0</td>\n      <td>0.0</td>\n      <td>0.0</td>\n      <td>0.0</td>\n      <td>0.0</td>\n      <td>0.0</td>\n      <td>...</td>\n      <td>0.0</td>\n      <td>0.0</td>\n      <td>0.0</td>\n      <td>0.0</td>\n      <td>0.0</td>\n      <td>0.0</td>\n      <td>0.0</td>\n      <td>0.0</td>\n      <td>0.0</td>\n      <td>0.0</td>\n    </tr>\n    <tr>\n      <th>4</th>\n      <td>HachiMaruPop-Regular</td>\n      <td>F</td>\n      <td>0.0</td>\n      <td>0.0</td>\n      <td>0.0</td>\n      <td>0.0</td>\n      <td>0.0</td>\n      <td>0.0</td>\n      <td>0.0</td>\n      <td>0.0</td>\n      <td>...</td>\n      <td>0.0</td>\n      <td>0.0</td>\n      <td>0.0</td>\n      <td>0.0</td>\n      <td>0.0</td>\n      <td>0.0</td>\n      <td>0.0</td>\n      <td>0.0</td>\n      <td>0.0</td>\n      <td>0.0</td>\n    </tr>\n    <tr>\n      <th>...</th>\n      <td>...</td>\n      <td>...</td>\n      <td>...</td>\n      <td>...</td>\n      <td>...</td>\n      <td>...</td>\n      <td>...</td>\n      <td>...</td>\n      <td>...</td>\n      <td>...</td>\n      <td>...</td>\n      <td>...</td>\n      <td>...</td>\n      <td>...</td>\n      <td>...</td>\n      <td>...</td>\n      <td>...</td>\n      <td>...</td>\n      <td>...</td>\n      <td>...</td>\n      <td>...</td>\n    </tr>\n    <tr>\n      <th>274088</th>\n      <td>BalooChettan2-Regular</td>\n      <td>6</td>\n      <td>0.0</td>\n      <td>0.0</td>\n      <td>0.0</td>\n      <td>0.0</td>\n      <td>0.0</td>\n      <td>0.0</td>\n      <td>0.0</td>\n      <td>0.0</td>\n      <td>...</td>\n      <td>0.0</td>\n      <td>0.0</td>\n      <td>0.0</td>\n      <td>0.0</td>\n      <td>0.0</td>\n      <td>0.0</td>\n      <td>0.0</td>\n      <td>0.0</td>\n      <td>0.0</td>\n      <td>0.0</td>\n    </tr>\n    <tr>\n      <th>274089</th>\n      <td>Prompt-ExtraBoldItalic</td>\n      <td>&lt;</td>\n      <td>0.0</td>\n      <td>0.0</td>\n      <td>0.0</td>\n      <td>0.0</td>\n      <td>0.0</td>\n      <td>0.0</td>\n      <td>0.0</td>\n      <td>0.0</td>\n      <td>...</td>\n      <td>0.0</td>\n      <td>0.0</td>\n      <td>0.0</td>\n      <td>0.0</td>\n      <td>0.0</td>\n      <td>0.0</td>\n      <td>0.0</td>\n      <td>0.0</td>\n      <td>0.0</td>\n      <td>0.0</td>\n    </tr>\n    <tr>\n      <th>274090</th>\n      <td>FiraSansCondensed-ThinItalic</td>\n      <td>z</td>\n      <td>0.0</td>\n      <td>0.0</td>\n      <td>0.0</td>\n      <td>0.0</td>\n      <td>0.0</td>\n      <td>0.0</td>\n      <td>0.0</td>\n      <td>0.0</td>\n      <td>...</td>\n      <td>0.0</td>\n      <td>0.0</td>\n      <td>0.0</td>\n      <td>0.0</td>\n      <td>0.0</td>\n      <td>0.0</td>\n      <td>0.0</td>\n      <td>0.0</td>\n      <td>0.0</td>\n      <td>0.0</td>\n    </tr>\n    <tr>\n      <th>274091</th>\n      <td>GothicA1-Bold</td>\n      <td>~</td>\n      <td>0.0</td>\n      <td>0.0</td>\n      <td>0.0</td>\n      <td>0.0</td>\n      <td>0.0</td>\n      <td>0.0</td>\n      <td>0.0</td>\n      <td>0.0</td>\n      <td>...</td>\n      <td>0.0</td>\n      <td>0.0</td>\n      <td>0.0</td>\n      <td>0.0</td>\n      <td>0.0</td>\n      <td>0.0</td>\n      <td>0.0</td>\n      <td>0.0</td>\n      <td>0.0</td>\n      <td>0.0</td>\n    </tr>\n    <tr>\n      <th>274092</th>\n      <td>Tuffy-Regular</td>\n      <td>I</td>\n      <td>0.0</td>\n      <td>0.0</td>\n      <td>0.0</td>\n      <td>0.0</td>\n      <td>0.0</td>\n      <td>0.0</td>\n      <td>0.0</td>\n      <td>0.0</td>\n      <td>...</td>\n      <td>0.0</td>\n      <td>0.0</td>\n      <td>0.0</td>\n      <td>0.0</td>\n      <td>0.0</td>\n      <td>0.0</td>\n      <td>0.0</td>\n      <td>0.0</td>\n      <td>0.0</td>\n      <td>0.0</td>\n    </tr>\n  </tbody>\n</table>\n<p>274093 rows × 786 columns</p>\n</div>"
          },
          "metadata": {}
        }
      ]
    },
    {
      "cell_type": "code",
      "source": [
        "df[\"labels\"].nunique()"
      ],
      "metadata": {
        "execution": {
          "iopub.status.busy": "2023-04-17T04:46:31.254042Z",
          "iopub.execute_input": "2023-04-17T04:46:31.254566Z",
          "iopub.status.idle": "2023-04-17T04:46:31.295127Z",
          "shell.execute_reply.started": "2023-04-17T04:46:31.254516Z",
          "shell.execute_reply": "2023-04-17T04:46:31.293780Z"
        },
        "trusted": true,
        "id": "ud_vvo-pZEfP",
        "outputId": "3dfb1a05-fda8-4701-cd01-fd8aa7babaf8"
      },
      "execution_count": null,
      "outputs": [
        {
          "execution_count": 7,
          "output_type": "execute_result",
          "data": {
            "text/plain": "94"
          },
          "metadata": {}
        }
      ]
    },
    {
      "cell_type": "markdown",
      "source": [
        "**Defining X and y from the dataset**"
      ],
      "metadata": {
        "id": "TuB6WxzaZEfP"
      }
    },
    {
      "cell_type": "code",
      "source": [
        "X=df.iloc[:,2:].values\n",
        "y=df.iloc[:,1].values"
      ],
      "metadata": {
        "execution": {
          "iopub.status.busy": "2023-04-17T04:47:07.560773Z",
          "iopub.execute_input": "2023-04-17T04:47:07.561265Z",
          "iopub.status.idle": "2023-04-17T04:47:08.566069Z",
          "shell.execute_reply.started": "2023-04-17T04:47:07.561221Z",
          "shell.execute_reply": "2023-04-17T04:47:08.564647Z"
        },
        "trusted": true,
        "id": "tFN34ty9ZEfP"
      },
      "execution_count": null,
      "outputs": []
    },
    {
      "cell_type": "code",
      "source": [
        "X.shape, y.shape"
      ],
      "metadata": {
        "execution": {
          "iopub.status.busy": "2023-04-17T04:47:24.470075Z",
          "iopub.execute_input": "2023-04-17T04:47:24.470545Z",
          "iopub.status.idle": "2023-04-17T04:47:24.479371Z",
          "shell.execute_reply.started": "2023-04-17T04:47:24.470503Z",
          "shell.execute_reply": "2023-04-17T04:47:24.477900Z"
        },
        "trusted": true,
        "id": "BoLddqY-ZEfQ",
        "outputId": "25797bd9-95ea-4b2e-d57f-b0430c144a40"
      },
      "execution_count": null,
      "outputs": [
        {
          "execution_count": 9,
          "output_type": "execute_result",
          "data": {
            "text/plain": "((274093, 784), (274093,))"
          },
          "metadata": {}
        }
      ]
    },
    {
      "cell_type": "markdown",
      "source": [
        "**Splitting the data in Training and Test Datasets**"
      ],
      "metadata": {
        "id": "Z2fhomUsZEfQ"
      }
    },
    {
      "cell_type": "code",
      "source": [
        "X_train, X_test, y_train, y_test = train_test_split(X, y, test_size=0.1)"
      ],
      "metadata": {
        "execution": {
          "iopub.status.busy": "2023-04-17T04:48:54.479126Z",
          "iopub.execute_input": "2023-04-17T04:48:54.479608Z",
          "iopub.status.idle": "2023-04-17T04:48:58.977547Z",
          "shell.execute_reply.started": "2023-04-17T04:48:54.479567Z",
          "shell.execute_reply": "2023-04-17T04:48:58.976071Z"
        },
        "trusted": true,
        "id": "Um4TfqKRZEfQ"
      },
      "execution_count": null,
      "outputs": []
    },
    {
      "cell_type": "code",
      "source": [
        "X_train=X_train/255.\n",
        "X_test=X_test/255"
      ],
      "metadata": {
        "execution": {
          "iopub.status.busy": "2023-04-17T04:49:06.992630Z",
          "iopub.execute_input": "2023-04-17T04:49:06.993062Z",
          "iopub.status.idle": "2023-04-17T04:49:08.132002Z",
          "shell.execute_reply.started": "2023-04-17T04:49:06.993027Z",
          "shell.execute_reply": "2023-04-17T04:49:08.130687Z"
        },
        "trusted": true,
        "id": "QytzAEM6ZEfQ"
      },
      "execution_count": null,
      "outputs": []
    },
    {
      "cell_type": "code",
      "source": [
        "from sklearn.utils import shuffle\n",
        "import matplotlib.pyplot as plt"
      ],
      "metadata": {
        "execution": {
          "iopub.status.busy": "2023-04-17T04:49:20.802294Z",
          "iopub.execute_input": "2023-04-17T04:49:20.802749Z",
          "iopub.status.idle": "2023-04-17T04:49:20.808699Z",
          "shell.execute_reply.started": "2023-04-17T04:49:20.802706Z",
          "shell.execute_reply": "2023-04-17T04:49:20.807264Z"
        },
        "trusted": true,
        "id": "BAlyY6lxZEfR"
      },
      "execution_count": null,
      "outputs": []
    },
    {
      "cell_type": "markdown",
      "source": [
        "Let's have a look at a few examples. Only grayscale photos are included in the MNIST collection."
      ],
      "metadata": {
        "id": "nRuYtLLeZEfR"
      }
    },
    {
      "cell_type": "code",
      "source": [
        "# displaying the charecters of our dataset\n",
        "random = shuffle(X_train[:500]) #Randomly shuffle\n",
        "fig,ax = plt.subplots(3,4 , figsize = (10,10))\n",
        "axes = ax.flatten()\n",
        "for i in range(12):\n",
        "    img = np.reshape(random[i], (28,28)) # reshaping it for displaying\n",
        "    axes[i].imshow(img, cmap=\"Greys\")\n",
        "    img_final =np.reshape(img, (1,28,28,1)) # reshapng it for passing into model for prediction\n",
        "    axes[i].grid()"
      ],
      "metadata": {
        "execution": {
          "iopub.status.busy": "2023-04-17T04:49:55.583142Z",
          "iopub.execute_input": "2023-04-17T04:49:55.584438Z",
          "iopub.status.idle": "2023-04-17T04:49:57.367980Z",
          "shell.execute_reply.started": "2023-04-17T04:49:55.584385Z",
          "shell.execute_reply": "2023-04-17T04:49:57.366055Z"
        },
        "trusted": true,
        "id": "ix1KA_MVZEfR",
        "outputId": "fc041462-6cc2-4cb6-e13c-4bdf1f3ec060"
      },
      "execution_count": null,
      "outputs": [
        {
          "output_type": "display_data",
          "data": {
            "text/plain": "<Figure size 1000x1000 with 12 Axes>",
            "image/png": "[encoded data removed]"
          },
          "metadata": {}
        }
      ]
    },
    {
      "cell_type": "code",
      "source": [
        "le=LabelEncoder()\n",
        "y_train1=le.fit_transform(y_train)\n",
        "y_test1=le.fit_transform(y_test)"
      ],
      "metadata": {
        "execution": {
          "iopub.status.busy": "2023-04-17T04:50:09.466947Z",
          "iopub.execute_input": "2023-04-17T04:50:09.468418Z",
          "iopub.status.idle": "2023-04-17T04:50:09.541274Z",
          "shell.execute_reply.started": "2023-04-17T04:50:09.468356Z",
          "shell.execute_reply": "2023-04-17T04:50:09.539799Z"
        },
        "trusted": true,
        "id": "NdumdNlmZEfR"
      },
      "execution_count": null,
      "outputs": []
    },
    {
      "cell_type": "markdown",
      "source": [
        "70,000 pictures of handwritten digits are stored at MNIST, including 60,000 for training and 10,000 for testing. To reduce preparation and get started faster, the photos are grayscale, 28x28 pixels, and centered.\n",
        "\n",
        "Keras is a user-friendly, fast prototyping, modular, and extensible high-level neural network API. It integrates with deep learning frameworks such as Tensorflow, Theano, and CNTK, allowing us to jump immediately into designing and training a neural network."
      ],
      "metadata": {
        "id": "ZUtXUDxJZEfS"
      }
    },
    {
      "cell_type": "code",
      "source": [
        "model = keras.models.Sequential()\n",
        "# tf.keras.layers.Dense(1024, input_shape=(X_train.shape[1],), activation='relu'),\n",
        "model.add(keras.layers.Dense(300,input_shape=(X_train.shape[1],), activation=\"relu\"))\n",
        "model.add(keras.layers.Dense(100, activation=\"relu\"))\n",
        "model.add(keras.layers.Dense(94, activation=\"softmax\"))"
      ],
      "metadata": {
        "execution": {
          "iopub.status.busy": "2023-04-17T04:50:43.531593Z",
          "iopub.execute_input": "2023-04-17T04:50:43.532096Z",
          "iopub.status.idle": "2023-04-17T04:50:43.754294Z",
          "shell.execute_reply.started": "2023-04-17T04:50:43.532051Z",
          "shell.execute_reply": "2023-04-17T04:50:43.753048Z"
        },
        "trusted": true,
        "id": "I3rpijObZEfS"
      },
      "execution_count": null,
      "outputs": []
    },
    {
      "cell_type": "markdown",
      "source": [
        "2022-05-16 01:11:35.811100: I tensorflow/core/common_runtime/process_util.cc:146] Creating new thread pool with default inter op setting: 2. Tune using inter_op_parallelism_threads for best performance."
      ],
      "metadata": {
        "id": "jyDKyg6zZEfS"
      }
    },
    {
      "cell_type": "markdown",
      "source": [
        "**Training the model for Neural Networks**"
      ],
      "metadata": {
        "id": "T1XJ_DSnZEfS"
      }
    },
    {
      "cell_type": "code",
      "source": [
        "model.compile(optimizer='adam',loss = tf.keras.losses.SparseCategoricalCrossentropy(from_logits=True), metrics=['accuracy'])"
      ],
      "metadata": {
        "execution": {
          "iopub.status.busy": "2023-04-17T04:51:45.370341Z",
          "iopub.execute_input": "2023-04-17T04:51:45.370799Z",
          "iopub.status.idle": "2023-04-17T04:51:45.394017Z",
          "shell.execute_reply.started": "2023-04-17T04:51:45.370761Z",
          "shell.execute_reply": "2023-04-17T04:51:45.392747Z"
        },
        "trusted": true,
        "id": "qv3kVjUzZEfS"
      },
      "execution_count": null,
      "outputs": []
    },
    {
      "cell_type": "code",
      "source": [
        "history = model.fit(X_train, y_train1, epochs=20,validation_data=(X_test, y_test1),verbose=1)"
      ],
      "metadata": {
        "execution": {
          "iopub.status.busy": "2023-04-17T04:51:55.957418Z",
          "iopub.execute_input": "2023-04-17T04:51:55.958082Z",
          "iopub.status.idle": "2023-04-17T05:06:20.433560Z",
          "shell.execute_reply.started": "2023-04-17T04:51:55.958022Z",
          "shell.execute_reply": "2023-04-17T05:06:20.432371Z"
        },
        "trusted": true,
        "id": "OPZd6U48ZEfS",
        "outputId": "193c0aec-cb60-47fc-f9d6-975a1a4bafe6"
      },
      "execution_count": null,
      "outputs": [
        {
          "name": "stdout",
          "text": "Epoch 1/20\n",
          "output_type": "stream"
        },
        {
          "name": "stderr",
          "text": "/opt/conda/lib/python3.7/site-packages/keras/backend.py:5586: UserWarning: \"`sparse_categorical_crossentropy` received `from_logits=True`, but the `output` argument was produced by a Softmax activation and thus does not represent logits. Was this intended?\n  output, from_logits, \"Softmax\", \"sparse_categorical_crossentropy\"\n",
          "output_type": "stream"
        },
        {
          "name": "stdout",
          "text": "7709/7709 [==============================] - 44s 6ms/step - loss: 0.6142 - accuracy: 0.8242 - val_loss: 0.4255 - val_accuracy: 0.8710\nEpoch 2/20\n7709/7709 [==============================] - 43s 6ms/step - loss: 0.3892 - accuracy: 0.8748 - val_loss: 0.3904 - val_accuracy: 0.8764\nEpoch 3/20\n7709/7709 [==============================] - 43s 6ms/step - loss: 0.3342 - accuracy: 0.8887 - val_loss: 0.3655 - val_accuracy: 0.8844\nEpoch 4/20\n7709/7709 [==============================] - 42s 5ms/step - loss: 0.3002 - accuracy: 0.8984 - val_loss: 0.3544 - val_accuracy: 0.8898\nEpoch 5/20\n7709/7709 [==============================] - 44s 6ms/step - loss: 0.2757 - accuracy: 0.9060 - val_loss: 0.3380 - val_accuracy: 0.9001\nEpoch 6/20\n7709/7709 [==============================] - 43s 6ms/step - loss: 0.2558 - accuracy: 0.9118 - val_loss: 0.3607 - val_accuracy: 0.8949\nEpoch 7/20\n7709/7709 [==============================] - 43s 6ms/step - loss: 0.2416 - accuracy: 0.9160 - val_loss: 0.3525 - val_accuracy: 0.8972\nEpoch 8/20\n7709/7709 [==============================] - 44s 6ms/step - loss: 0.2297 - accuracy: 0.9196 - val_loss: 0.3366 - val_accuracy: 0.9051\nEpoch 9/20\n7709/7709 [==============================] - 42s 5ms/step - loss: 0.2186 - accuracy: 0.9235 - val_loss: 0.3455 - val_accuracy: 0.9046\nEpoch 10/20\n7709/7709 [==============================] - 43s 6ms/step - loss: 0.2117 - accuracy: 0.9254 - val_loss: 0.3542 - val_accuracy: 0.9067\nEpoch 11/20\n7709/7709 [==============================] - 42s 6ms/step - loss: 0.2036 - accuracy: 0.9280 - val_loss: 0.3711 - val_accuracy: 0.9066\nEpoch 12/20\n7709/7709 [==============================] - 43s 6ms/step - loss: 0.1974 - accuracy: 0.9300 - val_loss: 0.3942 - val_accuracy: 0.9002\nEpoch 13/20\n7709/7709 [==============================] - 43s 6ms/step - loss: 0.1928 - accuracy: 0.9314 - val_loss: 0.3786 - val_accuracy: 0.9050\nEpoch 14/20\n7709/7709 [==============================] - 43s 6ms/step - loss: 0.1876 - accuracy: 0.9331 - val_loss: 0.4078 - val_accuracy: 0.9013\nEpoch 15/20\n7709/7709 [==============================] - 43s 6ms/step - loss: 0.1828 - accuracy: 0.9352 - val_loss: 0.4029 - val_accuracy: 0.9087\nEpoch 16/20\n7709/7709 [==============================] - 42s 5ms/step - loss: 0.1794 - accuracy: 0.9358 - val_loss: 0.4010 - val_accuracy: 0.9055\nEpoch 17/20\n7709/7709 [==============================] - 42s 5ms/step - loss: 0.1762 - accuracy: 0.9372 - val_loss: 0.4122 - val_accuracy: 0.9092\nEpoch 18/20\n7709/7709 [==============================] - 42s 6ms/step - loss: 0.1740 - accuracy: 0.9379 - val_loss: 0.4316 - val_accuracy: 0.9093\nEpoch 19/20\n7709/7709 [==============================] - 44s 6ms/step - loss: 0.1698 - accuracy: 0.9395 - val_loss: 0.4417 - val_accuracy: 0.9059\nEpoch 20/20\n7709/7709 [==============================] - 42s 5ms/step - loss: 0.1680 - accuracy: 0.9403 - val_loss: 0.4607 - val_accuracy: 0.9112\n",
          "output_type": "stream"
        }
      ]
    },
    {
      "cell_type": "markdown",
      "source": [
        "**The model gives an accuracy of 91.26%**"
      ],
      "metadata": {
        "id": "CNL64pJ-ZEfT"
      }
    },
    {
      "cell_type": "code",
      "source": [
        "model.summary()"
      ],
      "metadata": {
        "execution": {
          "iopub.status.busy": "2023-04-17T05:08:24.545579Z",
          "iopub.execute_input": "2023-04-17T05:08:24.546028Z",
          "iopub.status.idle": "2023-04-17T05:08:24.572766Z",
          "shell.execute_reply.started": "2023-04-17T05:08:24.545992Z",
          "shell.execute_reply": "2023-04-17T05:08:24.571620Z"
        },
        "trusted": true,
        "id": "uZI5jJC7ZEfT",
        "outputId": "972cc586-36ad-4a49-8493-67e23a4b8917"
      },
      "execution_count": null,
      "outputs": [
        {
          "name": "stdout",
          "text": "Model: \"sequential\"\n_________________________________________________________________\n Layer (type)                Output Shape              Param #   \n=================================================================\n dense (Dense)               (None, 300)               235500    \n                                                                 \n dense_1 (Dense)             (None, 100)               30100     \n                                                                 \n dense_2 (Dense)             (None, 94)                9494      \n                                                                 \n=================================================================\nTotal params: 275,094\nTrainable params: 275,094\nNon-trainable params: 0\n_________________________________________________________________\n",
          "output_type": "stream"
        }
      ]
    },
    {
      "cell_type": "markdown",
      "source": [
        "**Conclusion**"
      ],
      "metadata": {
        "id": "6v-wTLb2ZEfT"
      }
    },
    {
      "cell_type": "markdown",
      "source": [
        "As we can see, the wrong predictions are quite forgiveable since they're in some cases even hard to recognize for the human reader.\n",
        "\n",
        "In summary we used Keras to train a neural network to recognize handwritten digits in under 20 seconds of training time - all that without having to spin up any compute instances, only using our browser."
      ],
      "metadata": {
        "id": "u8f6kGWRZEfT"
      }
    },
    {
      "cell_type": "markdown",
      "source": [
        "References\n",
        "\n",
        "https://www.kaggle.com/code/rushabhfegade/tmnist-glyphs\n",
        "\n",
        "https://towardsdatascience.com/convolutional-neural-networks-explained-9cc5188c4939"
      ],
      "metadata": {
        "id": "8oY1DKZTZEfT"
      }
    },
    {
      "cell_type": "markdown",
      "source": [
        "**License**"
      ],
      "metadata": {
        "id": "zohTDXlKZEfT"
      }
    },
    {
      "cell_type": "markdown",
      "source": [
        "This Notebook has been released under the Apache 2.0 open source license."
      ],
      "metadata": {
        "id": "ByEzOBnhZEfT"
      }
    },
    {
      "cell_type": "code",
      "source": [],
      "metadata": {
        "id": "aFjIcYifZEfU"
      },
      "execution_count": null,
      "outputs": []
    }
  ]
}